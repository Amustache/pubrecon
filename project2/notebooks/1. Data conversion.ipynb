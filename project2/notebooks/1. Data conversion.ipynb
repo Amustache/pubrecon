{
 "cells": [
  {
   "cell_type": "markdown",
   "metadata": {},
   "source": [
    "### Imports and preparation"
   ]
  },
  {
   "cell_type": "code",
   "execution_count": 17,
   "metadata": {},
   "outputs": [],
   "source": [
    "import os\n",
    "import xml.etree.ElementTree as ET\n",
    "import pandas as pd"
   ]
  },
  {
   "cell_type": "code",
   "execution_count": 18,
   "metadata": {},
   "outputs": [],
   "source": [
    "# Where are we going to work?\n",
    "data_path = \"../data/prelim/preprocess2/out/\""
   ]
  },
  {
   "cell_type": "code",
   "execution_count": 19,
   "metadata": {
    "scrolled": true
   },
   "outputs": [
    {
     "data": {
      "text/plain": [
       "['in-011',\n",
       " 'in-010',\n",
       " 'in-002',\n",
       " 'in-012',\n",
       " 'in-007',\n",
       " 'in-001',\n",
       " 'in-009',\n",
       " 'in-006',\n",
       " 'in-008',\n",
       " 'in-005',\n",
       " 'in-003',\n",
       " 'in-004']"
      ]
     },
     "execution_count": 19,
     "metadata": {},
     "output_type": "execute_result"
    }
   ],
   "source": [
    "# Collect files\n",
    "names = []\n",
    "for root, dirs, files in os.walk(data_path):\n",
    "    for name in files:\n",
    "        names.append(name.split('.')[0])\n",
    "names = list(set(names))\n",
    "names"
   ]
  },
  {
   "cell_type": "markdown",
   "metadata": {},
   "source": [
    "### Processing XML"
   ]
  },
  {
   "cell_type": "code",
   "execution_count": 22,
   "metadata": {},
   "outputs": [
    {
     "data": {
      "text/html": [
       "<div>\n",
       "<style scoped>\n",
       "    .dataframe tbody tr th:only-of-type {\n",
       "        vertical-align: middle;\n",
       "    }\n",
       "\n",
       "    .dataframe tbody tr th {\n",
       "        vertical-align: top;\n",
       "    }\n",
       "\n",
       "    .dataframe thead th {\n",
       "        text-align: right;\n",
       "    }\n",
       "</style>\n",
       "<table border=\"1\" class=\"dataframe\">\n",
       "  <thead>\n",
       "    <tr style=\"text-align: right;\">\n",
       "      <th></th>\n",
       "      <th>file_name</th>\n",
       "      <th>class_name</th>\n",
       "      <th>xmin</th>\n",
       "      <th>ymin</th>\n",
       "      <th>xmax</th>\n",
       "      <th>ymax</th>\n",
       "    </tr>\n",
       "  </thead>\n",
       "  <tbody>\n",
       "    <tr>\n",
       "      <th>0</th>\n",
       "      <td>in-011.jpg</td>\n",
       "      <td>contenu_éditorial</td>\n",
       "      <td>1</td>\n",
       "      <td>1</td>\n",
       "      <td>479</td>\n",
       "      <td>640</td>\n",
       "    </tr>\n",
       "    <tr>\n",
       "      <th>1</th>\n",
       "      <td>in-011.jpg</td>\n",
       "      <td>couverture</td>\n",
       "      <td>1</td>\n",
       "      <td>1</td>\n",
       "      <td>479</td>\n",
       "      <td>640</td>\n",
       "    </tr>\n",
       "    <tr>\n",
       "      <th>2</th>\n",
       "      <td>in-010.jpg</td>\n",
       "      <td>contenu_éditorial</td>\n",
       "      <td>1</td>\n",
       "      <td>1</td>\n",
       "      <td>477</td>\n",
       "      <td>640</td>\n",
       "    </tr>\n",
       "    <tr>\n",
       "      <th>3</th>\n",
       "      <td>in-010.jpg</td>\n",
       "      <td>article</td>\n",
       "      <td>1</td>\n",
       "      <td>1</td>\n",
       "      <td>477</td>\n",
       "      <td>640</td>\n",
       "    </tr>\n",
       "    <tr>\n",
       "      <th>4</th>\n",
       "      <td>in-010.jpg</td>\n",
       "      <td>preview</td>\n",
       "      <td>1</td>\n",
       "      <td>1</td>\n",
       "      <td>479</td>\n",
       "      <td>640</td>\n",
       "    </tr>\n",
       "  </tbody>\n",
       "</table>\n",
       "</div>"
      ],
      "text/plain": [
       "    file_name         class_name xmin ymin xmax ymax\n",
       "0  in-011.jpg  contenu_éditorial    1    1  479  640\n",
       "1  in-011.jpg         couverture    1    1  479  640\n",
       "2  in-010.jpg  contenu_éditorial    1    1  477  640\n",
       "3  in-010.jpg            article    1    1  477  640\n",
       "4  in-010.jpg            preview    1    1  479  640"
      ]
     },
     "execution_count": 22,
     "metadata": {},
     "output_type": "execute_result"
    }
   ],
   "source": [
    "# Columns\n",
    "columns = ['file_name', 'class_name', 'xmin', 'ymin', 'xmax', 'ymax']\n",
    "\n",
    "# Data\n",
    "data = []\n",
    "for name in names:\n",
    "    xml_path = os.path.join(data_path, name + '.xml')\n",
    "    tree = ET.parse(xml_path)\n",
    "    root = tree.getroot()\n",
    "    \n",
    "    for obj in root.findall('object'):\n",
    "        temp = [root.find('filename').text, obj.find('name').text]\n",
    "        for child in obj.find('bndbox'):\n",
    "            temp.append(child.text)\n",
    "        data.append(temp)\n",
    "        \n",
    "# Create a new pandas dataframe\n",
    "df = pd.DataFrame(data, columns=columns)\n",
    "df.head()"
   ]
  },
  {
   "cell_type": "markdown",
   "metadata": {},
   "source": [
    "### Saving"
   ]
  },
  {
   "cell_type": "code",
   "execution_count": 24,
   "metadata": {},
   "outputs": [],
   "source": [
    "pickle_name = '../data/prelim/work/out.pickle'\n",
    "df.to_pickle(pickle_name)"
   ]
  }
 ],
 "metadata": {
  "kernelspec": {
   "display_name": "Python 3",
   "language": "python",
   "name": "python3"
  },
  "language_info": {
   "codemirror_mode": {
    "name": "ipython",
    "version": 3
   },
   "file_extension": ".py",
   "mimetype": "text/x-python",
   "name": "python",
   "nbconvert_exporter": "python",
   "pygments_lexer": "ipython3",
   "version": "3.7.5"
  }
 },
 "nbformat": 4,
 "nbformat_minor": 2
}
