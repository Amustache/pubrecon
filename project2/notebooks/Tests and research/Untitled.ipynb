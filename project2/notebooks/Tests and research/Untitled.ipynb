{
 "cells": [
  {
   "cell_type": "code",
   "execution_count": 1,
   "metadata": {
    "scrolled": true
   },
   "outputs": [
    {
     "name": "stdout",
     "output_type": "stream",
     "text": [
      "Collecting hyperas\n",
      "  Downloading https://files.pythonhosted.org/packages/04/34/87ad6ffb42df9c1fa9c4c906f65813d42ad70d68c66af4ffff048c228cd4/hyperas-0.4.1-py3-none-any.whl\n",
      "Requirement already satisfied: jupyter in /home/stache/miniconda3/envs/project2/lib/python3.7/site-packages (from hyperas) (1.0.0)\n",
      "Requirement already satisfied: keras in /home/stache/miniconda3/envs/project2/lib/python3.7/site-packages (from hyperas) (2.2.4)\n",
      "Requirement already satisfied: nbconvert in /home/stache/miniconda3/envs/project2/lib/python3.7/site-packages (from hyperas) (5.6.1)\n",
      "Requirement already satisfied: entrypoints in /home/stache/miniconda3/envs/project2/lib/python3.7/site-packages (from hyperas) (0.3)\n",
      "Requirement already satisfied: nbformat in /home/stache/miniconda3/envs/project2/lib/python3.7/site-packages (from hyperas) (4.4.0)\n",
      "Collecting hyperopt\n",
      "\u001b[?25l  Downloading https://files.pythonhosted.org/packages/0b/4a/79541d4f61e7878f846f68ab31ed709bac6ee99345378c0e02658c3be0d4/hyperopt-0.2.2-py3-none-any.whl (1.9MB)\n",
      "\u001b[K     |████████████████████████████████| 1.9MB 2.5MB/s eta 0:00:01\n",
      "\u001b[?25hRequirement already satisfied: notebook in /home/stache/miniconda3/envs/project2/lib/python3.7/site-packages (from jupyter->hyperas) (6.0.2)\n",
      "Requirement already satisfied: ipykernel in /home/stache/miniconda3/envs/project2/lib/python3.7/site-packages (from jupyter->hyperas) (5.1.3)\n",
      "Requirement already satisfied: qtconsole in /home/stache/miniconda3/envs/project2/lib/python3.7/site-packages (from jupyter->hyperas) (4.6.0)\n",
      "Requirement already satisfied: jupyter-console in /home/stache/miniconda3/envs/project2/lib/python3.7/site-packages (from jupyter->hyperas) (6.0.0)\n",
      "Requirement already satisfied: ipywidgets in /home/stache/miniconda3/envs/project2/lib/python3.7/site-packages (from jupyter->hyperas) (7.5.1)\n",
      "Requirement already satisfied: numpy>=1.9.1 in /home/stache/miniconda3/envs/project2/lib/python3.7/site-packages (from keras->hyperas) (1.17.4)\n",
      "Requirement already satisfied: scipy>=0.14 in /home/stache/miniconda3/envs/project2/lib/python3.7/site-packages (from keras->hyperas) (1.2.0)\n",
      "Requirement already satisfied: six>=1.9.0 in /home/stache/miniconda3/envs/project2/lib/python3.7/site-packages (from keras->hyperas) (1.13.0)\n",
      "Requirement already satisfied: pyyaml in /home/stache/miniconda3/envs/project2/lib/python3.7/site-packages (from keras->hyperas) (5.1.2)\n",
      "Requirement already satisfied: h5py in /home/stache/miniconda3/envs/project2/lib/python3.7/site-packages (from keras->hyperas) (2.8.0)\n",
      "Requirement already satisfied: keras_applications>=1.0.6 in /home/stache/miniconda3/envs/project2/lib/python3.7/site-packages (from keras->hyperas) (1.0.8)\n",
      "Requirement already satisfied: keras_preprocessing>=1.0.5 in /home/stache/miniconda3/envs/project2/lib/python3.7/site-packages (from keras->hyperas) (1.1.0)\n",
      "Requirement already satisfied: jupyter-core in /home/stache/miniconda3/envs/project2/lib/python3.7/site-packages (from nbconvert->hyperas) (4.6.1)\n",
      "Requirement already satisfied: pygments in /home/stache/miniconda3/envs/project2/lib/python3.7/site-packages (from nbconvert->hyperas) (2.4.2)\n",
      "Requirement already satisfied: testpath in /home/stache/miniconda3/envs/project2/lib/python3.7/site-packages (from nbconvert->hyperas) (0.4.4)\n",
      "Requirement already satisfied: traitlets>=4.2 in /home/stache/miniconda3/envs/project2/lib/python3.7/site-packages (from nbconvert->hyperas) (4.3.3)\n",
      "Requirement already satisfied: jinja2>=2.4 in /home/stache/miniconda3/envs/project2/lib/python3.7/site-packages (from nbconvert->hyperas) (2.10.3)\n",
      "Requirement already satisfied: bleach in /home/stache/miniconda3/envs/project2/lib/python3.7/site-packages (from nbconvert->hyperas) (3.1.0)\n",
      "Requirement already satisfied: defusedxml in /home/stache/miniconda3/envs/project2/lib/python3.7/site-packages (from nbconvert->hyperas) (0.6.0)\n",
      "Requirement already satisfied: pandocfilters>=1.4.1 in /home/stache/miniconda3/envs/project2/lib/python3.7/site-packages (from nbconvert->hyperas) (1.4.2)\n",
      "Requirement already satisfied: mistune<2,>=0.8.1 in /home/stache/miniconda3/envs/project2/lib/python3.7/site-packages (from nbconvert->hyperas) (0.8.4)\n",
      "Requirement already satisfied: jsonschema!=2.5.0,>=2.4 in /home/stache/miniconda3/envs/project2/lib/python3.7/site-packages (from nbformat->hyperas) (3.2.0)\n",
      "Requirement already satisfied: ipython-genutils in /home/stache/miniconda3/envs/project2/lib/python3.7/site-packages (from nbformat->hyperas) (0.2.0)\n",
      "Collecting future\n",
      "\u001b[?25l  Downloading https://files.pythonhosted.org/packages/45/0b/38b06fd9b92dc2b68d58b75f900e97884c45bedd2ff83203d933cf5851c9/future-0.18.2.tar.gz (829kB)\n",
      "\u001b[K     |████████████████████████████████| 829kB 9.5MB/s eta 0:00:01\n",
      "\u001b[?25hCollecting networkx==2.2\n",
      "\u001b[?25l  Downloading https://files.pythonhosted.org/packages/f3/f4/7e20ef40b118478191cec0b58c3192f822cace858c19505c7670961b76b2/networkx-2.2.zip (1.7MB)\n",
      "\u001b[K     |████████████████████████████████| 1.7MB 9.5MB/s eta 0:00:01\n",
      "\u001b[?25hRequirement already satisfied: tqdm in /home/stache/miniconda3/envs/project2/lib/python3.7/site-packages (from hyperopt->hyperas) (4.40.0)\n",
      "Collecting cloudpickle\n",
      "  Downloading https://files.pythonhosted.org/packages/c1/49/334e279caa3231255725c8e860fa93e72083567625573421db8875846c14/cloudpickle-1.2.2-py2.py3-none-any.whl\n",
      "Requirement already satisfied: jupyter-client>=5.3.4 in /home/stache/miniconda3/envs/project2/lib/python3.7/site-packages (from notebook->jupyter->hyperas) (5.3.4)\n",
      "Requirement already satisfied: prometheus-client in /home/stache/miniconda3/envs/project2/lib/python3.7/site-packages (from notebook->jupyter->hyperas) (0.7.1)\n",
      "Requirement already satisfied: terminado>=0.8.1 in /home/stache/miniconda3/envs/project2/lib/python3.7/site-packages (from notebook->jupyter->hyperas) (0.8.3)\n",
      "Requirement already satisfied: pyzmq>=17 in /home/stache/miniconda3/envs/project2/lib/python3.7/site-packages (from notebook->jupyter->hyperas) (18.1.0)\n",
      "Requirement already satisfied: tornado>=5.0 in /home/stache/miniconda3/envs/project2/lib/python3.7/site-packages (from notebook->jupyter->hyperas) (6.0.3)\n",
      "Requirement already satisfied: Send2Trash in /home/stache/miniconda3/envs/project2/lib/python3.7/site-packages (from notebook->jupyter->hyperas) (1.5.0)\n",
      "Requirement already satisfied: ipython>=5.0.0 in /home/stache/miniconda3/envs/project2/lib/python3.7/site-packages (from ipykernel->jupyter->hyperas) (7.9.0)\n",
      "Requirement already satisfied: prompt_toolkit<2.1.0,>=2.0.0 in /home/stache/miniconda3/envs/project2/lib/python3.7/site-packages (from jupyter-console->jupyter->hyperas) (2.0.10)\n",
      "Requirement already satisfied: widgetsnbextension~=3.5.0 in /home/stache/miniconda3/envs/project2/lib/python3.7/site-packages (from ipywidgets->jupyter->hyperas) (3.5.1)\n",
      "Requirement already satisfied: decorator in /home/stache/miniconda3/envs/project2/lib/python3.7/site-packages (from traitlets>=4.2->nbconvert->hyperas) (4.4.1)\n",
      "Requirement already satisfied: MarkupSafe>=0.23 in /home/stache/miniconda3/envs/project2/lib/python3.7/site-packages (from jinja2>=2.4->nbconvert->hyperas) (1.1.1)\n",
      "Requirement already satisfied: webencodings in /home/stache/miniconda3/envs/project2/lib/python3.7/site-packages (from bleach->nbconvert->hyperas) (0.5.1)\n",
      "Requirement already satisfied: pyrsistent>=0.14.0 in /home/stache/miniconda3/envs/project2/lib/python3.7/site-packages (from jsonschema!=2.5.0,>=2.4->nbformat->hyperas) (0.15.6)\n",
      "Requirement already satisfied: setuptools in /home/stache/.local/lib/python3.7/site-packages (from jsonschema!=2.5.0,>=2.4->nbformat->hyperas) (42.0.2)\n",
      "Requirement already satisfied: attrs>=17.4.0 in /home/stache/miniconda3/envs/project2/lib/python3.7/site-packages (from jsonschema!=2.5.0,>=2.4->nbformat->hyperas) (19.3.0)\n",
      "Requirement already satisfied: importlib-metadata; python_version < \"3.8\" in /home/stache/miniconda3/envs/project2/lib/python3.7/site-packages (from jsonschema!=2.5.0,>=2.4->nbformat->hyperas) (0.23)\n",
      "Requirement already satisfied: python-dateutil>=2.1 in /home/stache/miniconda3/envs/project2/lib/python3.7/site-packages (from jupyter-client>=5.3.4->notebook->jupyter->hyperas) (2.8.1)\n",
      "Requirement already satisfied: pickleshare in /home/stache/miniconda3/envs/project2/lib/python3.7/site-packages (from ipython>=5.0.0->ipykernel->jupyter->hyperas) (0.7.5)\n",
      "Requirement already satisfied: jedi>=0.10 in /home/stache/miniconda3/envs/project2/lib/python3.7/site-packages (from ipython>=5.0.0->ipykernel->jupyter->hyperas) (0.15.1)\n",
      "Requirement already satisfied: pexpect; sys_platform != \"win32\" in /home/stache/miniconda3/envs/project2/lib/python3.7/site-packages (from ipython>=5.0.0->ipykernel->jupyter->hyperas) (4.7.0)\n",
      "Requirement already satisfied: backcall in /home/stache/miniconda3/envs/project2/lib/python3.7/site-packages (from ipython>=5.0.0->ipykernel->jupyter->hyperas) (0.1.0)\n",
      "Requirement already satisfied: wcwidth in /home/stache/miniconda3/envs/project2/lib/python3.7/site-packages (from prompt_toolkit<2.1.0,>=2.0.0->jupyter-console->jupyter->hyperas) (0.1.7)\n",
      "Requirement already satisfied: zipp>=0.5 in /home/stache/miniconda3/envs/project2/lib/python3.7/site-packages (from importlib-metadata; python_version < \"3.8\"->jsonschema!=2.5.0,>=2.4->nbformat->hyperas) (0.6.0)\n",
      "Requirement already satisfied: parso>=0.5.0 in /home/stache/miniconda3/envs/project2/lib/python3.7/site-packages (from jedi>=0.10->ipython>=5.0.0->ipykernel->jupyter->hyperas) (0.5.1)\n",
      "Requirement already satisfied: ptyprocess>=0.5 in /home/stache/miniconda3/envs/project2/lib/python3.7/site-packages (from pexpect; sys_platform != \"win32\"->ipython>=5.0.0->ipykernel->jupyter->hyperas) (0.6.0)\n",
      "Requirement already satisfied: more-itertools in /home/stache/miniconda3/envs/project2/lib/python3.7/site-packages (from zipp>=0.5->importlib-metadata; python_version < \"3.8\"->jsonschema!=2.5.0,>=2.4->nbformat->hyperas) (7.2.0)\n"
     ]
    },
    {
     "name": "stdout",
     "output_type": "stream",
     "text": [
      "Building wheels for collected packages: future, networkx\n",
      "  Building wheel for future (setup.py) ... \u001b[?25ldone\n",
      "\u001b[?25h  Created wheel for future: filename=future-0.18.2-cp37-none-any.whl size=491057 sha256=fda6bc9047b0da0c25f1a7c0315f240bd14d6f207e0b2bf8b7737fe8bfc85da6\n",
      "  Stored in directory: /home/stache/.cache/pip/wheels/8b/99/a0/81daf51dcd359a9377b110a8a886b3895921802d2fc1b2397e\n",
      "  Building wheel for networkx (setup.py) ... \u001b[?25ldone\n",
      "\u001b[?25h  Created wheel for networkx: filename=networkx-2.2-py2.py3-none-any.whl size=1527322 sha256=e70687577b9053b183884b49011b0cc37421bea54711f9ce0a7b60067c2a9580\n",
      "  Stored in directory: /home/stache/.cache/pip/wheels/68/f8/29/b53346a112a07d30a5a84d53f19aeadaa1a474897c0423af91\n",
      "Successfully built future networkx\n",
      "Installing collected packages: future, networkx, cloudpickle, hyperopt, hyperas\n",
      "Successfully installed cloudpickle-1.2.2 future-0.18.2 hyperas-0.4.1 hyperopt-0.2.2 networkx-2.2\n",
      "Requirement already satisfied: hyperopt in /home/stache/miniconda3/envs/project2/lib/python3.7/site-packages (0.2.2)\n",
      "Requirement already satisfied: six in /home/stache/miniconda3/envs/project2/lib/python3.7/site-packages (from hyperopt) (1.13.0)\n",
      "Requirement already satisfied: networkx==2.2 in /home/stache/miniconda3/envs/project2/lib/python3.7/site-packages (from hyperopt) (2.2)\n",
      "Requirement already satisfied: tqdm in /home/stache/miniconda3/envs/project2/lib/python3.7/site-packages (from hyperopt) (4.40.0)\n",
      "Requirement already satisfied: future in /home/stache/miniconda3/envs/project2/lib/python3.7/site-packages (from hyperopt) (0.18.2)\n",
      "Requirement already satisfied: scipy in /home/stache/miniconda3/envs/project2/lib/python3.7/site-packages (from hyperopt) (1.2.0)\n",
      "Requirement already satisfied: cloudpickle in /home/stache/miniconda3/envs/project2/lib/python3.7/site-packages (from hyperopt) (1.2.2)\n",
      "Requirement already satisfied: numpy in /home/stache/miniconda3/envs/project2/lib/python3.7/site-packages (from hyperopt) (1.17.4)\n",
      "Requirement already satisfied: decorator>=4.3.0 in /home/stache/miniconda3/envs/project2/lib/python3.7/site-packages (from networkx==2.2->hyperopt) (4.4.1)\n"
     ]
    }
   ],
   "source": [
    "!pip install hyperas\n",
    "!pip install hyperopt"
   ]
  },
  {
   "cell_type": "code",
   "execution_count": 2,
   "metadata": {},
   "outputs": [],
   "source": [
    "%load_ext autoreload\n",
    "%autoreload 2\n",
    "# !pip install -e ../  # If not done yet..."
   ]
  },
  {
   "cell_type": "code",
   "execution_count": 3,
   "metadata": {},
   "outputs": [
    {
     "name": "stderr",
     "output_type": "stream",
     "text": [
      "Using TensorFlow backend.\n"
     ]
    }
   ],
   "source": [
    "import os\n",
    "import matplotlib.pyplot as plt\n",
    "from pubrecon.data import DataFrame, ImagesData\n",
    "from pubrecon.model import RCNN"
   ]
  },
  {
   "cell_type": "code",
   "execution_count": 4,
   "metadata": {},
   "outputs": [],
   "source": [
    "# General\n",
    "data_path = \"../data/in/\"  # Where is your input data\n",
    "work_path = \"../data/out/\"  # Where everything will be saved\n",
    "seed = 1337  # Random seed\n",
    "verbose = 1  # 0: no output; 1: normal informations; 2: e v e r y th i n g\n",
    "\n",
    "# DataFrame\n",
    "dataframe_pickle_path = os.path.join(work_path, \"dataframe.pickle\")  # Where will the DataFrame be saved\n",
    "force_preparation = True  # Do you want to bypassed the saved DataFrame\n",
    "subsamples = 128  # Number of samples to use for the DataFrame; -1: Use all of them\n",
    "\n",
    "# ImagesData\n",
    "imagesdata_pickle_path = os.path.join(work_path, 'imagesdata.pickle')  # Where will the ImagesData be saved\n",
    "number_of_results = 2500  # How many samples will selective search use\n",
    "iou_threshold = 0.85  # What is the percent of precision required\n",
    "max_samples = 30  # How many class samples do you want\n",
    "show_infos = False  # Show information for images output\n",
    "show_labels = False  # Show labels for images output\n",
    "\n",
    "# RCNN\n",
    "model_and_weights_path = \"../data/out/\"  # Where will the model and weights be saved/loaded\n",
    "loss = None  # Loss function; None: Use crossentropy\n",
    "opt = None  # Optimization function; None: Use Adame\n",
    "lr = 0.001  # Learning rate\n",
    "epochs = 10  # Number of epochs\n",
    "batch_size = 16\n",
    "split_size = 0.10  # Test/Train proportion\n",
    "checkpoint_path = os.path.join(work_path, 'checkpoint.h5')  # Where will the checkpoints be saved; None: No checkpoint (don't.)\n",
    "early_stopping = False  # Should the learning stop if no more improvment is done\n",
    "threshold = 0.80  # Threshold used for the recognition"
   ]
  },
  {
   "cell_type": "code",
   "execution_count": 5,
   "metadata": {},
   "outputs": [],
   "source": [
    "import pickle\n",
    "with open(\"img.pickle\", 'rb') as fi:\n",
    "    imagesdata = pickle.load(fi)"
   ]
  },
  {
   "cell_type": "code",
   "execution_count": 6,
   "metadata": {},
   "outputs": [],
   "source": [
    "images = imagesdata.images\n",
    "labels = imagesdata.labels"
   ]
  },
  {
   "cell_type": "code",
   "execution_count": 7,
   "metadata": {},
   "outputs": [],
   "source": [
    "from hyperas import optim"
   ]
  },
  {
   "cell_type": "code",
   "execution_count": 8,
   "metadata": {},
   "outputs": [],
   "source": [
    "from sklearn.model_selection import train_test_split\n",
    "X_train, X_test, y_train, y_test = train_test_split(images, labels, test_size=split_size, random_state=seed)\n",
    "\n",
    "def data():\n",
    "    \"\"\"\n",
    "    Data providing function:\n",
    "\n",
    "    This function is separated from create_model() so that hyperopt\n",
    "    won't reload data for each evaluation run.\n",
    "    \"\"\"\n",
    "    \n",
    "    (x_train, y_train), (x_test, y_test) = (X_train, y_train), (X_test, y_test)\n",
    "    x_train = x_train.reshape(60000, 784)\n",
    "    x_test = x_test.reshape(10000, 784)\n",
    "    x_train = x_train.astype('float32')\n",
    "    x_test = x_test.astype('float32')\n",
    "    x_train /= 255\n",
    "    x_test /= 255\n",
    "    nb_classes = 10\n",
    "    y_train = np_utils.to_categorical(y_train, nb_classes)\n",
    "    y_test = np_utils.to_categorical(y_test, nb_classes)\n",
    "    return x_train, y_train, x_test, y_test"
   ]
  },
  {
   "cell_type": "code",
   "execution_count": null,
   "metadata": {},
   "outputs": [],
   "source": [
    "def create_model(x_train, y_train, x_test, y_test):\n",
    "    model = RCNN(imagesdata, loss=loss, opt=opt, lr=lr, verbose=verbose)\n",
    "    \n",
    "    \"\"\"\n",
    "    Model providing function:\n",
    "\n",
    "    Create Keras model with double curly brackets dropped-in as needed.\n",
    "    Return value has to be a valid python dictionary with two customary keys:\n",
    "        - loss: Specify a numeric evaluation metric to be minimized\n",
    "        - status: Just use STATUS_OK and see hyperopt documentation if not feasible\n",
    "    The last one is optional, though recommended, namely:\n",
    "        - model: specify the model just created so that we can later use it again.\n",
    "    \"\"\"\n",
    "    model = Sequential()\n",
    "    model.add(Dense(512, input_shape=(784,)))\n",
    "    model.add(Activation('relu'))\n",
    "    model.add(Dropout({{uniform(0, 1)}}))\n",
    "    model.add(Dense({{choice([256, 512, 1024])}}))\n",
    "    model.add(Activation({{choice(['relu', 'sigmoid'])}}))\n",
    "    model.add(Dropout({{uniform(0, 1)}}))\n",
    "\n",
    "    # If we choose 'four', add an additional fourth layer\n",
    "    if {{choice(['three', 'four'])}} == 'four':\n",
    "        model.add(Dense(100))\n",
    "\n",
    "        # We can also choose between complete sets of layers\n",
    "\n",
    "        model.add({{choice([Dropout(0.5), Activation('linear')])}})\n",
    "        model.add(Activation('relu'))\n",
    "\n",
    "    model.add(Dense(10))\n",
    "    model.add(Activation('softmax'))\n",
    "\n",
    "    model.compile(loss='categorical_crossentropy', metrics=['accuracy'],\n",
    "                  optimizer={{choice(['rmsprop', 'adam', 'sgd'])}})\n",
    "\n",
    "    result = model.fit(x_train, y_train,\n",
    "              batch_size={{choice([64, 128])}},\n",
    "              epochs=2,\n",
    "              verbose=2,\n",
    "              validation_split=0.1)\n",
    "    #get the highest validation accuracy of the training epochs\n",
    "    validation_acc = np.amax(result.history['val_acc']) \n",
    "    print('Best validation acc of epoch:', validation_acc)\n",
    "    return {'loss': -validation_acc, 'status': STATUS_OK, 'model': model}"
   ]
  },
  {
   "cell_type": "code",
   "execution_count": null,
   "metadata": {},
   "outputs": [],
   "source": [
    "best_run, best_model = optim.minimize(model=model,\n",
    "                                          data=data,\n",
    "                                          max_evals=10,\n",
    "                                          algo=tpe.suggest,\n",
    "                                          notebook_name='HyperasOnColabExample', # This is important!\n",
    "                                          trials=Trials())"
   ]
  }
 ],
 "metadata": {
  "kernelspec": {
   "display_name": "Python 3",
   "language": "python",
   "name": "python3"
  },
  "language_info": {
   "codemirror_mode": {
    "name": "ipython",
    "version": 3
   },
   "file_extension": ".py",
   "mimetype": "text/x-python",
   "name": "python",
   "nbconvert_exporter": "python",
   "pygments_lexer": "ipython3",
   "version": "3.7.5"
  }
 },
 "nbformat": 4,
 "nbformat_minor": 2
}
