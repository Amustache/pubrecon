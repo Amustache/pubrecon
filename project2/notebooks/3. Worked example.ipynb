{
 "cells": [
  {
   "cell_type": "markdown",
   "metadata": {},
   "source": [
    "### 0. Imports and config"
   ]
  },
  {
   "cell_type": "code",
   "execution_count": null,
   "metadata": {},
   "outputs": [],
   "source": [
    "%load_ext autoreload\n",
    "%autoreload 2\n",
    "# !pip install -e ../  # If not done yet..."
   ]
  },
  {
   "cell_type": "code",
   "execution_count": null,
   "metadata": {},
   "outputs": [],
   "source": [
    "import os\n",
    "import matplotlib.pyplot as plt\n",
    "from pubrecon.data import DataFrame, ImagesData\n",
    "from pubrecon.model import RCNN"
   ]
  },
  {
   "cell_type": "code",
   "execution_count": null,
   "metadata": {},
   "outputs": [],
   "source": [
    "# General\n",
    "data_path = \"../data/in/\"  # Where is your input data\n",
    "work_path = \"../data/out/\"  # Where everything will be saved\n",
    "seed = 1337  # Random seed\n",
    "verbose = 1  # 0: no output; 1: normal informations; 2: e v e r y th i n g\n",
    "\n",
    "# DataFrame\n",
    "dataframe_pickle_path = os.path.join(work_path, \"dataframe.pickle\")  # Where will the DataFrame be saved\n",
    "force_preparation = True  # Do you want to bypassed the saved DataFrame\n",
    "subsamples = 128  # Number of samples to use for the DataFrame; -1: Use all of them\n",
    "\n",
    "# ImagesData\n",
    "imagesdata_pickle_path = os.path.join(work_path, 'imagesdata.pickle')  # Where will the ImagesData be saved\n",
    "number_of_results = 2500  # How many samples will selective search use\n",
    "iou_threshold = 0.85  # What is the percent of precision required\n",
    "max_samples = 15  # How many class samples do you want\n",
    "show_infos = True  # Show information for images output\n",
    "show_labels = True  # Show labels for images output\n",
    "\n",
    "# RCNN\n",
    "model_and_weights_path = \"../data/out/\"  # Where will the model and weights be saved/loaded\n",
    "loss = None  # Loss function; None: Use \n",
    "opt = None  # Optimization function; None: Use Adame\n",
    "lr = 0.001  # Learning rate\n",
    "epochs = 5  # Number of epochs\n",
    "batch_size = 16\n",
    "split_size = 0.15  # Test/Train proportion\n",
    "checkpoint_path = os.path.join(work_path, 'checkpoint.h5')  # Where will the checkpoints be saved; None: No checkpoint (don't.)\n",
    "early_stopping = True  # Should the learning stop if no more improvment is done\n",
    "threshold = 0.85  # Threshold used for the recognition"
   ]
  },
  {
   "cell_type": "markdown",
   "metadata": {},
   "source": [
    "### 1. DataFrame"
   ]
  },
  {
   "cell_type": "code",
   "execution_count": null,
   "metadata": {},
   "outputs": [],
   "source": [
    "dataframe = DataFrame(data_path, pickle_path=dataframe_pickle_path)"
   ]
  },
  {
   "cell_type": "code",
   "execution_count": null,
   "metadata": {},
   "outputs": [],
   "source": [
    "dataframe.prepare_data(force_preparation=force_preparation, subsamples=subsamples, verbose=verbose)"
   ]
  },
  {
   "cell_type": "code",
   "execution_count": null,
   "metadata": {},
   "outputs": [],
   "source": [
    "dataframe.summary()"
   ]
  },
  {
   "cell_type": "markdown",
   "metadata": {},
   "source": [
    "### 2. ImagesData"
   ]
  },
  {
   "cell_type": "code",
   "execution_count": null,
   "metadata": {},
   "outputs": [],
   "source": [
    "imagesdata = ImagesData(dataframe, pickle_path=imagesdata_pickle_path)"
   ]
  },
  {
   "cell_type": "code",
   "execution_count": null,
   "metadata": {},
   "outputs": [],
   "source": [
    "# That part is quite long, beware!\n",
    "imagesdata.prepare_images_and_labels(number_of_results=number_of_results, iou_threshold=iou_threshold,\n",
    "                                     max_samples=max_samples, seed=seed, verbose=verbose)"
   ]
  },
  {
   "cell_type": "code",
   "execution_count": null,
   "metadata": {},
   "outputs": [],
   "source": [
    "imagesdata.summary()"
   ]
  },
  {
   "cell_type": "markdown",
   "metadata": {},
   "source": [
    "### 3. Model"
   ]
  },
  {
   "cell_type": "code",
   "execution_count": null,
   "metadata": {},
   "outputs": [],
   "source": [
    "model = RCNN(imagesdata, loss=loss, opt=opt, lr=lr, verbose=verbose)"
   ]
  },
  {
   "cell_type": "code",
   "execution_count": null,
   "metadata": {},
   "outputs": [],
   "source": [
    "model.train(epochs=epochs, batch_size=batch_size, split_size=split_size, checkpoint_path=checkpoint_path, early_stopping=early_stopping,\n",
    "            verbose=verbose)"
   ]
  },
  {
   "cell_type": "markdown",
   "metadata": {},
   "source": [
    "### 4. Metrics"
   ]
  },
  {
   "cell_type": "code",
   "execution_count": null,
   "metadata": {},
   "outputs": [],
   "source": [
    "loss = model.history()['loss']\n",
    "val_loss = model.history()['val_loss']\n",
    "accuracy = model.history()['acc']\n",
    "val_accuracy = model.history()['val_acc']"
   ]
  },
  {
   "cell_type": "code",
   "execution_count": null,
   "metadata": {},
   "outputs": [],
   "source": [
    "# Loss\n",
    "plt.plot(loss)\n",
    "plt.plot(val_loss)\n",
    "plt.title(\"Model loss\")\n",
    "plt.ylabel(\"Loss\")\n",
    "plt.xlabel(\"Epoch\")\n",
    "plt.legend([\"Loss\", \"Validation Loss\"])\n",
    "plt.show()"
   ]
  },
  {
   "cell_type": "code",
   "execution_count": null,
   "metadata": {},
   "outputs": [],
   "source": [
    "print(\"Final loss: {}\".format(loss[-1]))"
   ]
  },
  {
   "cell_type": "code",
   "execution_count": null,
   "metadata": {},
   "outputs": [],
   "source": [
    "# Accuracy\n",
    "plt.plot(accuracy)\n",
    "plt.plot(val_accuracy)\n",
    "plt.title(\"Model accuracy\")\n",
    "plt.ylabel(\"Accuracy\")\n",
    "plt.xlabel(\"Epoch\")\n",
    "plt.legend([\"Accuracy\", \"Validation Accuracy\"])\n",
    "plt.show()"
   ]
  },
  {
   "cell_type": "code",
   "execution_count": null,
   "metadata": {},
   "outputs": [],
   "source": [
    "print(\"Final accuracy: {}\".format(accuracy[-1]))"
   ]
  },
  {
   "cell_type": "markdown",
   "metadata": {},
   "source": [
    "### 5. Recognition example"
   ]
  },
  {
   "cell_type": "code",
   "execution_count": null,
   "metadata": {},
   "outputs": [],
   "source": [
    "imagesdata.show_image(6, show_infos=show_infos, show_labels=show_labels)"
   ]
  },
  {
   "cell_type": "code",
   "execution_count": null,
   "metadata": {
    "scrolled": false
   },
   "outputs": [],
   "source": [
    "model.test_image(6, show_infos=show_infos, show_labels=show_labels, number_of_results=number_of_results,\n",
    "                 threshold=threshold, verbose=verbose)"
   ]
  },
  {
   "cell_type": "code",
   "execution_count": null,
   "metadata": {},
   "outputs": [],
   "source": []
  }
 ],
 "metadata": {
  "kernelspec": {
   "display_name": "Python 3",
   "language": "python",
   "name": "python3"
  },
  "language_info": {
   "codemirror_mode": {
    "name": "ipython",
    "version": 3
   },
   "file_extension": ".py",
   "mimetype": "text/x-python",
   "name": "python",
   "nbconvert_exporter": "python",
   "pygments_lexer": "ipython3",
   "version": "3.7.5"
  }
 },
 "nbformat": 4,
 "nbformat_minor": 2
}
