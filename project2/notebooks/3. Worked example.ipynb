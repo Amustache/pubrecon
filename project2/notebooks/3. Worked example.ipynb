{
 "cells": [
  {
   "cell_type": "markdown",
   "metadata": {},
   "source": [
    "### 0. Imports and config"
   ]
  },
  {
   "cell_type": "code",
   "execution_count": 1,
   "metadata": {},
   "outputs": [
    {
     "name": "stdout",
     "output_type": "stream",
     "text": [
      "Obtaining file:///mnt/c/Users/Stache/Desktop/Cours/MA1/ML/Project/project2\n",
      "Requirement already satisfied: matplotlib in /home/stache/miniconda3/envs/project2/lib/python3.7/site-packages (from pubrecon==0.1) (3.1.1)\n",
      "Requirement already satisfied: tensorflow in /home/stache/miniconda3/envs/project2/lib/python3.7/site-packages (from pubrecon==0.1) (1.15.0)\n",
      "Requirement already satisfied: opencv-python in /home/stache/miniconda3/envs/project2/lib/python3.7/site-packages (from pubrecon==0.1) (4.1.2.30)\n",
      "Requirement already satisfied: opencv-contrib-python in /home/stache/miniconda3/envs/project2/lib/python3.7/site-packages (from pubrecon==0.1) (4.1.2.30)\n",
      "Requirement already satisfied: keras in /home/stache/miniconda3/envs/project2/lib/python3.7/site-packages (from pubrecon==0.1) (2.2.4)\n",
      "Requirement already satisfied: numpy in /home/stache/miniconda3/envs/project2/lib/python3.7/site-packages (from pubrecon==0.1) (1.17.4)\n",
      "Requirement already satisfied: tqdm in /home/stache/miniconda3/envs/project2/lib/python3.7/site-packages (from pubrecon==0.1) (4.40.0)\n",
      "Requirement already satisfied: pandas in /home/stache/miniconda3/envs/project2/lib/python3.7/site-packages (from pubrecon==0.1) (0.25.3)\n",
      "Requirement already satisfied: sklearn in /home/stache/miniconda3/envs/project2/lib/python3.7/site-packages (from pubrecon==0.1) (0.0)\n",
      "Requirement already satisfied: cycler>=0.10 in /home/stache/miniconda3/envs/project2/lib/python3.7/site-packages (from matplotlib->pubrecon==0.1) (0.10.0)\n",
      "Requirement already satisfied: kiwisolver>=1.0.1 in /home/stache/miniconda3/envs/project2/lib/python3.7/site-packages (from matplotlib->pubrecon==0.1) (1.1.0)\n",
      "Requirement already satisfied: pyparsing!=2.0.4,!=2.1.2,!=2.1.6,>=2.0.1 in /home/stache/miniconda3/envs/project2/lib/python3.7/site-packages (from matplotlib->pubrecon==0.1) (2.4.5)\n",
      "Requirement already satisfied: python-dateutil>=2.1 in /home/stache/miniconda3/envs/project2/lib/python3.7/site-packages (from matplotlib->pubrecon==0.1) (2.8.1)\n",
      "Requirement already satisfied: astor>=0.6.0 in /home/stache/miniconda3/envs/project2/lib/python3.7/site-packages (from tensorflow->pubrecon==0.1) (0.8.0)\n",
      "Requirement already satisfied: opt-einsum>=2.3.2 in /home/stache/miniconda3/envs/project2/lib/python3.7/site-packages (from tensorflow->pubrecon==0.1) (3.1.0)\n",
      "Requirement already satisfied: gast==0.2.2 in /home/stache/miniconda3/envs/project2/lib/python3.7/site-packages (from tensorflow->pubrecon==0.1) (0.2.2)\n",
      "Requirement already satisfied: tensorboard<1.16.0,>=1.15.0 in /home/stache/miniconda3/envs/project2/lib/python3.7/site-packages (from tensorflow->pubrecon==0.1) (1.15.0)\n",
      "Requirement already satisfied: six>=1.10.0 in /home/stache/miniconda3/envs/project2/lib/python3.7/site-packages (from tensorflow->pubrecon==0.1) (1.13.0)\n",
      "Requirement already satisfied: google-pasta>=0.1.6 in /home/stache/miniconda3/envs/project2/lib/python3.7/site-packages (from tensorflow->pubrecon==0.1) (0.1.8)\n",
      "Requirement already satisfied: wrapt>=1.11.1 in /home/stache/miniconda3/envs/project2/lib/python3.7/site-packages (from tensorflow->pubrecon==0.1) (1.11.2)\n",
      "Requirement already satisfied: wheel>=0.26 in /home/stache/miniconda3/envs/project2/lib/python3.7/site-packages (from tensorflow->pubrecon==0.1) (0.33.6)\n",
      "Requirement already satisfied: protobuf>=3.6.1 in /home/stache/miniconda3/envs/project2/lib/python3.7/site-packages (from tensorflow->pubrecon==0.1) (3.10.1)\n",
      "Requirement already satisfied: keras-preprocessing>=1.0.5 in /home/stache/miniconda3/envs/project2/lib/python3.7/site-packages (from tensorflow->pubrecon==0.1) (1.1.0)\n",
      "Requirement already satisfied: absl-py>=0.7.0 in /home/stache/miniconda3/envs/project2/lib/python3.7/site-packages (from tensorflow->pubrecon==0.1) (0.8.1)\n",
      "Requirement already satisfied: grpcio>=1.8.6 in /home/stache/miniconda3/envs/project2/lib/python3.7/site-packages (from tensorflow->pubrecon==0.1) (1.16.1)\n",
      "Requirement already satisfied: tensorflow-estimator==1.15.1 in /home/stache/miniconda3/envs/project2/lib/python3.7/site-packages (from tensorflow->pubrecon==0.1) (1.15.1)\n",
      "Requirement already satisfied: termcolor>=1.1.0 in /home/stache/miniconda3/envs/project2/lib/python3.7/site-packages (from tensorflow->pubrecon==0.1) (1.1.0)\n",
      "Requirement already satisfied: keras-applications>=1.0.8 in /home/stache/miniconda3/envs/project2/lib/python3.7/site-packages (from tensorflow->pubrecon==0.1) (1.0.8)\n",
      "Requirement already satisfied: scipy>=0.14 in /home/stache/miniconda3/envs/project2/lib/python3.7/site-packages (from keras->pubrecon==0.1) (1.3.1)\n",
      "Requirement already satisfied: pyyaml in /home/stache/miniconda3/envs/project2/lib/python3.7/site-packages (from keras->pubrecon==0.1) (5.1.2)\n",
      "Requirement already satisfied: h5py in /home/stache/miniconda3/envs/project2/lib/python3.7/site-packages (from keras->pubrecon==0.1) (2.8.0)\n",
      "Requirement already satisfied: pytz>=2017.2 in /home/stache/miniconda3/envs/project2/lib/python3.7/site-packages (from pandas->pubrecon==0.1) (2019.3)\n",
      "Requirement already satisfied: scikit-learn in /home/stache/miniconda3/envs/project2/lib/python3.7/site-packages (from sklearn->pubrecon==0.1) (0.21.3)\n",
      "Requirement already satisfied: setuptools in /home/stache/.local/lib/python3.7/site-packages (from kiwisolver>=1.0.1->matplotlib->pubrecon==0.1) (42.0.2)\n",
      "Requirement already satisfied: werkzeug>=0.11.15 in /home/stache/miniconda3/envs/project2/lib/python3.7/site-packages (from tensorboard<1.16.0,>=1.15.0->tensorflow->pubrecon==0.1) (0.16.0)\n",
      "Requirement already satisfied: markdown>=2.6.8 in /home/stache/miniconda3/envs/project2/lib/python3.7/site-packages (from tensorboard<1.16.0,>=1.15.0->tensorflow->pubrecon==0.1) (3.1.1)\n",
      "Requirement already satisfied: joblib>=0.11 in /home/stache/miniconda3/envs/project2/lib/python3.7/site-packages (from scikit-learn->sklearn->pubrecon==0.1) (0.14.0)\n",
      "Installing collected packages: pubrecon\n",
      "  Found existing installation: pubrecon 0.1\n",
      "    Uninstalling pubrecon-0.1:\n",
      "      Successfully uninstalled pubrecon-0.1\n",
      "  Running setup.py develop for pubrecon\n",
      "Successfully installed pubrecon\n"
     ]
    }
   ],
   "source": [
    "%load_ext autoreload\n",
    "%autoreload 2\n",
    "!pip install -e ../"
   ]
  },
  {
   "cell_type": "code",
   "execution_count": 2,
   "metadata": {},
   "outputs": [
    {
     "name": "stderr",
     "output_type": "stream",
     "text": [
      "Using TensorFlow backend.\n"
     ]
    }
   ],
   "source": [
    "import os\n",
    "import matplotlib.pyplot as plt\n",
    "from pubrecon.data import DataFrame, ImagesData\n",
    "from pubrecon.model import RCNN"
   ]
  },
  {
   "cell_type": "code",
   "execution_count": 10,
   "metadata": {},
   "outputs": [],
   "source": [
    "# General\n",
    "data_path = \"../data/in/\"\n",
    "work_path = \"../data/out/\"\n",
    "seed = 1337\n",
    "verbose = 2\n",
    "\n",
    "# DataFrame\n",
    "dataframe_pickle_path = os.path.join(work_path, \"dataframe.pickle\")\n",
    "force_preparation = True\n",
    "subsamples = -1\n",
    "\n",
    "# ImagesData\n",
    "imagesdata_pickle_path = os.path.join(work_path, 'imagesdata.pickle')\n",
    "number_of_results = 2500\n",
    "iou_threshold = 0.85\n",
    "max_samples = 15\n",
    "show_infos = True\n",
    "show_labels = True\n",
    "\n",
    "# RCNN\n",
    "model_and_weights_path = \"../data/out/\"\n",
    "loss = None\n",
    "opt = None\n",
    "lr = 0.001\n",
    "epochs = 100\n",
    "split_size = 0.15\n",
    "checkpoint_path = os.path.join(work_path, 'checkpoint.h5')\n",
    "early_stopping = True\n",
    "threshold = 0.85"
   ]
  },
  {
   "cell_type": "markdown",
   "metadata": {},
   "source": [
    "### 1. DataFrame"
   ]
  },
  {
   "cell_type": "code",
   "execution_count": 11,
   "metadata": {},
   "outputs": [],
   "source": [
    "dataframe = DataFrame(data_path, pickle_path=dataframe_pickle_path)"
   ]
  },
  {
   "cell_type": "code",
   "execution_count": 12,
   "metadata": {},
   "outputs": [],
   "source": [
    "dataframe.prepare_data(force_preparation=force_preparation, subsamples=subsamples, verbose=verbose)"
   ]
  },
  {
   "cell_type": "code",
   "execution_count": 13,
   "metadata": {},
   "outputs": [
    {
     "name": "stdout",
     "output_type": "stream",
     "text": [
      "We have 13 classes for 10 files, total points of data is 42.\n"
     ]
    }
   ],
   "source": [
    "dataframe.summary()"
   ]
  },
  {
   "cell_type": "markdown",
   "metadata": {},
   "source": [
    "### 2. ImagesData"
   ]
  },
  {
   "cell_type": "code",
   "execution_count": 14,
   "metadata": {},
   "outputs": [],
   "source": [
    "imagesdata = ImagesData(dataframe, pickle_path=imagesdata_pickle_path)"
   ]
  },
  {
   "cell_type": "code",
   "execution_count": 15,
   "metadata": {},
   "outputs": [
    {
     "name": "stderr",
     "output_type": "stream",
     "text": [
      "\n",
      "Iterating through files...:   0%|          | 0/10 [00:00<?, ?it/s]\u001b[A\n",
      "Iterating through files...:  10%|█         | 1/10 [00:13<02:00, 13.36s/it]\u001b[A\n",
      "Iterating through files...:  20%|██        | 2/10 [00:29<01:52, 14.06s/it]\u001b[A\n",
      "Iterating through files...:  30%|███       | 3/10 [00:42<01:36, 13.82s/it]\u001b[A\n",
      "Iterating through files...:  40%|████      | 4/10 [00:59<01:28, 14.69s/it]\u001b[A\n",
      "Iterating through files...:  50%|█████     | 5/10 [01:16<01:17, 15.41s/it]\u001b[A\n",
      "Iterating through files...:  60%|██████    | 6/10 [01:29<00:58, 14.70s/it]\u001b[A\n",
      "Iterating through files...:  70%|███████   | 7/10 [01:43<00:43, 14.53s/it]\u001b[A\n",
      "Iterating through files...:  80%|████████  | 8/10 [01:56<00:28, 14.15s/it]\u001b[A\n",
      "Iterating through files...:  90%|█████████ | 9/10 [02:12<00:14, 14.60s/it]\u001b[A\n",
      "Iterating through files...: 100%|██████████| 10/10 [02:25<00:00, 14.56s/it]\u001b[A\n"
     ]
    }
   ],
   "source": [
    "# That part is quite long, beware!\n",
    "imagesdata.prepare_images_and_labels(number_of_results=number_of_results, iou_threshold=iou_threshold,\n",
    "                                     max_samples=max_samples, verbose=verbose)"
   ]
  },
  {
   "cell_type": "code",
   "execution_count": 16,
   "metadata": {},
   "outputs": [
    {
     "name": "stdout",
     "output_type": "stream",
     "text": [
      "We have 241 samples for 13 classes.\n",
      "['pub_image', 'logo', 'contenu_editorial', 'pub_jeu', 'pub_materiel_info', 'pub_double', 'background', 'dossier', 'pub_pleine_page', 'publicite', 'edito', 'article', 'sommaire']\n"
     ]
    }
   ],
   "source": [
    "imagesdata.summary()"
   ]
  },
  {
   "cell_type": "markdown",
   "metadata": {},
   "source": [
    "### 3. Model"
   ]
  },
  {
   "cell_type": "code",
   "execution_count": 17,
   "metadata": {},
   "outputs": [
    {
     "name": "stdout",
     "output_type": "stream",
     "text": [
      "WARNING:tensorflow:From /home/stache/miniconda3/envs/project2/lib/python3.7/site-packages/keras/backend/tensorflow_backend.py:74: The name tf.get_default_graph is deprecated. Please use tf.compat.v1.get_default_graph instead.\n",
      "\n",
      "WARNING:tensorflow:From /home/stache/miniconda3/envs/project2/lib/python3.7/site-packages/keras/backend/tensorflow_backend.py:517: The name tf.placeholder is deprecated. Please use tf.compat.v1.placeholder instead.\n",
      "\n",
      "WARNING:tensorflow:From /home/stache/miniconda3/envs/project2/lib/python3.7/site-packages/keras/backend/tensorflow_backend.py:4138: The name tf.random_uniform is deprecated. Please use tf.random.uniform instead.\n",
      "\n",
      "WARNING:tensorflow:From /home/stache/miniconda3/envs/project2/lib/python3.7/site-packages/keras/backend/tensorflow_backend.py:3976: The name tf.nn.max_pool is deprecated. Please use tf.nn.max_pool2d instead.\n",
      "\n",
      "WARNING:tensorflow:From /home/stache/miniconda3/envs/project2/lib/python3.7/site-packages/keras/backend/tensorflow_backend.py:174: The name tf.get_default_session is deprecated. Please use tf.compat.v1.get_default_session instead.\n",
      "\n",
      "WARNING:tensorflow:From /home/stache/miniconda3/envs/project2/lib/python3.7/site-packages/keras/backend/tensorflow_backend.py:181: The name tf.ConfigProto is deprecated. Please use tf.compat.v1.ConfigProto instead.\n",
      "\n",
      "WARNING:tensorflow:From /home/stache/miniconda3/envs/project2/lib/python3.7/site-packages/keras/backend/tensorflow_backend.py:186: The name tf.Session is deprecated. Please use tf.compat.v1.Session instead.\n",
      "\n",
      "WARNING:tensorflow:From /home/stache/miniconda3/envs/project2/lib/python3.7/site-packages/keras/backend/tensorflow_backend.py:190: The name tf.global_variables is deprecated. Please use tf.compat.v1.global_variables instead.\n",
      "\n",
      "WARNING:tensorflow:From /home/stache/miniconda3/envs/project2/lib/python3.7/site-packages/keras/backend/tensorflow_backend.py:199: The name tf.is_variable_initialized is deprecated. Please use tf.compat.v1.is_variable_initialized instead.\n",
      "\n",
      "WARNING:tensorflow:From /home/stache/miniconda3/envs/project2/lib/python3.7/site-packages/keras/backend/tensorflow_backend.py:206: The name tf.variables_initializer is deprecated. Please use tf.compat.v1.variables_initializer instead.\n",
      "\n",
      "WARNING:tensorflow:From /home/stache/miniconda3/envs/project2/lib/python3.7/site-packages/keras/optimizers.py:790: The name tf.train.Optimizer is deprecated. Please use tf.compat.v1.train.Optimizer instead.\n",
      "\n",
      "WARNING:tensorflow:From /home/stache/miniconda3/envs/project2/lib/python3.7/site-packages/keras/backend/tensorflow_backend.py:3295: The name tf.log is deprecated. Please use tf.math.log instead.\n",
      "\n",
      "_________________________________________________________________\n",
      "Layer (type)                 Output Shape              Param #   \n",
      "=================================================================\n",
      "input_1 (InputLayer)         (None, 224, 224, 3)       0         \n",
      "_________________________________________________________________\n",
      "block1_conv1 (Conv2D)        (None, 224, 224, 64)      1792      \n",
      "_________________________________________________________________\n",
      "block1_conv2 (Conv2D)        (None, 224, 224, 64)      36928     \n",
      "_________________________________________________________________\n",
      "block1_pool (MaxPooling2D)   (None, 112, 112, 64)      0         \n",
      "_________________________________________________________________\n",
      "block2_conv1 (Conv2D)        (None, 112, 112, 128)     73856     \n",
      "_________________________________________________________________\n",
      "block2_conv2 (Conv2D)        (None, 112, 112, 128)     147584    \n",
      "_________________________________________________________________\n",
      "block2_pool (MaxPooling2D)   (None, 56, 56, 128)       0         \n",
      "_________________________________________________________________\n",
      "block3_conv1 (Conv2D)        (None, 56, 56, 256)       295168    \n",
      "_________________________________________________________________\n",
      "block3_conv2 (Conv2D)        (None, 56, 56, 256)       590080    \n",
      "_________________________________________________________________\n",
      "block3_conv3 (Conv2D)        (None, 56, 56, 256)       590080    \n",
      "_________________________________________________________________\n",
      "block3_pool (MaxPooling2D)   (None, 28, 28, 256)       0         \n",
      "_________________________________________________________________\n",
      "block4_conv1 (Conv2D)        (None, 28, 28, 512)       1180160   \n",
      "_________________________________________________________________\n",
      "block4_conv2 (Conv2D)        (None, 28, 28, 512)       2359808   \n",
      "_________________________________________________________________\n",
      "block4_conv3 (Conv2D)        (None, 28, 28, 512)       2359808   \n",
      "_________________________________________________________________\n",
      "block4_pool (MaxPooling2D)   (None, 14, 14, 512)       0         \n",
      "_________________________________________________________________\n",
      "block5_conv1 (Conv2D)        (None, 14, 14, 512)       2359808   \n",
      "_________________________________________________________________\n",
      "block5_conv2 (Conv2D)        (None, 14, 14, 512)       2359808   \n",
      "_________________________________________________________________\n",
      "block5_conv3 (Conv2D)        (None, 14, 14, 512)       2359808   \n",
      "_________________________________________________________________\n",
      "block5_pool (MaxPooling2D)   (None, 7, 7, 512)         0         \n",
      "_________________________________________________________________\n",
      "flatten (Flatten)            (None, 25088)             0         \n",
      "_________________________________________________________________\n",
      "fc1 (Dense)                  (None, 4096)              102764544 \n",
      "_________________________________________________________________\n",
      "fc2 (Dense)                  (None, 4096)              16781312  \n",
      "_________________________________________________________________\n",
      "dense_1 (Dense)              (None, 13)                53261     \n",
      "=================================================================\n",
      "Total params: 134,313,805\n",
      "Trainable params: 126,678,541\n",
      "Non-trainable params: 7,635,264\n",
      "_________________________________________________________________\n",
      "None\n"
     ]
    },
    {
     "name": "stderr",
     "output_type": "stream",
     "text": [
      "/mnt/c/Users/Stache/Desktop/Cours/MA1/ML/Project/project2/pubrecon/model.py:57: UserWarning: Update your `Model` call to the Keras 2 API: `Model(inputs=Tensor(\"in..., outputs=Tensor(\"de...)`\n",
      "  self.model = Model(input=vggmodel.input, output=predictions)\n"
     ]
    }
   ],
   "source": [
    "model = RCNN(imagesdata, loss=loss, opt=opt, lr=lr, verbose=verbose)"
   ]
  },
  {
   "cell_type": "code",
   "execution_count": 18,
   "metadata": {},
   "outputs": [
    {
     "name": "stdout",
     "output_type": "stream",
     "text": [
      "WARNING:tensorflow:From /home/stache/miniconda3/envs/project2/lib/python3.7/site-packages/tensorflow_core/python/ops/math_grad.py:1424: where (from tensorflow.python.ops.array_ops) is deprecated and will be removed in a future version.\n",
      "Instructions for updating:\n",
      "Use tf.where in 2.0, which has the same broadcast rule as np.where\n",
      "WARNING:tensorflow:From /home/stache/miniconda3/envs/project2/lib/python3.7/site-packages/keras/backend/tensorflow_backend.py:986: The name tf.assign_add is deprecated. Please use tf.compat.v1.assign_add instead.\n",
      "\n",
      "WARNING:tensorflow:From /home/stache/miniconda3/envs/project2/lib/python3.7/site-packages/keras/backend/tensorflow_backend.py:973: The name tf.assign is deprecated. Please use tf.compat.v1.assign instead.\n",
      "\n",
      "Epoch 1/1\n",
      "1/1 [==============================] - 93s 93s/step - loss: 3.2554 - acc: 0.3125 - val_loss: 8.0590 - val_acc: 0.5000\n",
      "\n",
      "Epoch 00001: val_loss improved from inf to 8.05905, saving model to ../data/out/checkpoint.h5\n"
     ]
    }
   ],
   "source": [
    "model.train(epochs=epochs, split_size=split_size, checkpoint_path=checkpoint_path, early_stopping=early_stopping,\n",
    "            verbose=verbose)"
   ]
  },
  {
   "cell_type": "markdown",
   "metadata": {},
   "source": [
    "### 4. Metrics"
   ]
  },
  {
   "cell_type": "code",
   "execution_count": 20,
   "metadata": {},
   "outputs": [],
   "source": [
    "loss = model.history()['loss']\n",
    "val_loss = model.history()['val_loss']\n",
    "accuracy = model.history()['acc']\n",
    "val_accuracy = model.history()['val_acc']"
   ]
  },
  {
   "cell_type": "code",
   "execution_count": 21,
   "metadata": {},
   "outputs": [
    {
     "data": {
      "image/png": "[encoded data removed]",
      "text/plain": [
       "<Figure size 432x288 with 1 Axes>"
      ]
     },
     "metadata": {
      "needs_background": "light"
     },
     "output_type": "display_data"
    }
   ],
   "source": [
    "# Loss\n",
    "plt.plot(loss)\n",
    "plt.plot(val_loss)\n",
    "plt.title(\"Model loss\")\n",
    "plt.ylabel(\"Loss\")\n",
    "plt.xlabel(\"Epoch\")\n",
    "plt.legend([\"Loss\", \"Validation Loss\"])\n",
    "plt.show()"
   ]
  },
  {
   "cell_type": "code",
   "execution_count": 22,
   "metadata": {},
   "outputs": [
    {
     "name": "stdout",
     "output_type": "stream",
     "text": [
      "]\n"
     ]
    }
   ],
   "source": [
    "print(\"Final loss: {}\".format(loss)[-1])"
   ]
  },
  {
   "cell_type": "code",
   "execution_count": 25,
   "metadata": {},
   "outputs": [
    {
     "data": {
      "image/png": "[encoded data removed]",
      "text/plain": [
       "<Figure size 432x288 with 1 Axes>"
      ]
     },
     "metadata": {
      "needs_background": "light"
     },
     "output_type": "display_data"
    }
   ],
   "source": [
    "# Accuracy\n",
    "plt.plot(accuracy)\n",
    "plt.plot(val_accuracy)\n",
    "plt.title(\"Model accuracy\")\n",
    "plt.ylabel(\"Accuracy\")\n",
    "plt.xlabel(\"Epoch\")\n",
    "plt.legend([\"Accuracy\", \"Validation Accuracy\"])\n",
    "plt.show()"
   ]
  },
  {
   "cell_type": "code",
   "execution_count": 26,
   "metadata": {},
   "outputs": [
    {
     "name": "stdout",
     "output_type": "stream",
     "text": [
      "Final loss: 0.3125\n"
     ]
    }
   ],
   "source": [
    "print(\"Final loss: {}\".format(accuracy[-1]))"
   ]
  },
  {
   "cell_type": "markdown",
   "metadata": {},
   "source": [
    "### 5. Recognition example"
   ]
  },
  {
   "cell_type": "code",
   "execution_count": null,
   "metadata": {},
   "outputs": [],
   "source": [
    "imagesdata.show_image(6, show_infos=show_infos, show_labels=show_labels)"
   ]
  },
  {
   "cell_type": "code",
   "execution_count": null,
   "metadata": {
    "scrolled": true
   },
   "outputs": [],
   "source": [
    "model.test_image(6, show_infos=show_infos, show_labels=show_labels, number_of_results=number_of_results,\n",
    "                 threshold=threshold, verbose=verbose)"
   ]
  }
 ],
 "metadata": {
  "kernelspec": {
   "display_name": "Python 3",
   "language": "python",
   "name": "python3"
  },
  "language_info": {
   "codemirror_mode": {
    "name": "ipython",
    "version": 3
   },
   "file_extension": ".py",
   "mimetype": "text/x-python",
   "name": "python",
   "nbconvert_exporter": "python",
   "pygments_lexer": "ipython3",
   "version": "3.7.5"
  }
 },
 "nbformat": 4,
 "nbformat_minor": 2
}
